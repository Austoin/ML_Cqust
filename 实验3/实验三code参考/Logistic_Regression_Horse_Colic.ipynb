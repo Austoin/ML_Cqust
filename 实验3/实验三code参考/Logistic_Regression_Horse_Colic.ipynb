{
 "cells": [
  {
   "cell_type": "markdown",
   "id": "812be48b",
   "metadata": {},
   "source": [
    "#### 算法原理与可视化"
   ]
  },
  {
   "cell_type": "code",
   "execution_count": 39,
   "id": "228c762b",
   "metadata": {},
   "outputs": [],
   "source": [
    "# 导入必要的库\n",
    "import numpy as np\n",
    "import matplotlib.pyplot as plt"
   ]
  },
  {
   "cell_type": "code",
   "execution_count": 40,
   "id": "8550c788",
   "metadata": {},
   "outputs": [],
   "source": [
    "# 定义辅助函数\n",
    "def loadDataSet():\n",
    "    \"\"\"加载并解析 testSet.txt 数据。\"\"\"\n",
    "    dataMat = []\n",
    "    labelMat = []\n",
    "    with open('testSet.txt') as fr:\n",
    "        for line in fr.readlines():\n",
    "            lineArr = line.strip().split()\n",
    "            # X0 设为 1.0，方便计算截距\n",
    "            dataMat.append([1.0, float(lineArr[0]), float(lineArr[1])])\n",
    "            labelMat.append(int(lineArr[2]))\n",
    "    return dataMat, labelMat\n",
    "\n",
    "def sigmoid(inX):\n",
    "    \"\"\"Sigmoid 函数\"\"\"\n",
    "    # 使用 np.clip 防止指数运算溢出\n",
    "    inX = np.clip(inX, -700, 700)\n",
    "    return 1.0 / (1 + np.exp(-inX))"
   ]
  },
  {
   "cell_type": "code",
   "execution_count": 41,
   "id": "4a77cede",
   "metadata": {},
   "outputs": [],
   "source": [
    "# 定义梯度上升优化算法\n",
    "def gradAscent(dataMatIn, classLabels):\n",
    "    \"\"\"批量梯度上升算法\"\"\"\n",
    "    dataMatrix = np.array(dataMatIn)\n",
    "    # 将标签列表转换为列向量\n",
    "    labelMat = np.array(classLabels).reshape(-1, 1)\n",
    "    m, n = np.shape(dataMatrix)\n",
    "    alpha = 0.001  # 学习率\n",
    "    maxCycles = 500  # 迭代次数\n",
    "    weights = np.ones((n, 1)) # 初始化权重\n",
    "\n",
    "    for k in range(maxCycles):\n",
    "        # 核心公式: 矩阵乘法计算预测值 h\n",
    "        h = sigmoid(dataMatrix @ weights)\n",
    "        # 计算误差\n",
    "        error = (labelMat - h)\n",
    "        # 更新权重\n",
    "        weights = weights + alpha * dataMatrix.T @ error\n",
    "        \n",
    "    return weights"
   ]
  },
  {
   "cell_type": "code",
   "execution_count": 42,
   "id": "363c1110",
   "metadata": {},
   "outputs": [],
   "source": [
    "# 定义可视化函数\n",
    "def plotBestFit(weights):\n",
    "    \"\"\"可视化数据集和逻辑回归的最佳拟合直线\"\"\"\n",
    "    dataMat, labelMat = loadDataSet()\n",
    "    dataArr = np.array(dataMat)\n",
    "    \n",
    "    # 将数据点按类别分组\n",
    "    xcord1, ycord1 = [], []\n",
    "    xcord2, ycord2 = [], []\n",
    "    for i in range(len(labelMat)):\n",
    "        if int(labelMat[i]) == 1:\n",
    "            xcord1.append(dataArr[i, 1])\n",
    "            ycord1.append(dataArr[i, 2])\n",
    "        else:\n",
    "            xcord2.append(dataArr[i, 1])\n",
    "            ycord2.append(dataArr[i, 2])\n",
    "            \n",
    "    # 创建画布并绘制散点图\n",
    "    fig = plt.figure()\n",
    "    ax = fig.add_subplot(111)\n",
    "    ax.scatter(xcord1, ycord1, s=30, c='red', marker='s', label='类别 1')\n",
    "    ax.scatter(xcord2, ycord2, s=30, c='green', label='类别 0')\n",
    "    \n",
    "    # 绘制决策边界线\n",
    "    x = np.arange(-3.0, 3.0, 0.1)\n",
    "    # 方程: w0 + w1*x + w2*y = 0  =>  y = (-w0 - w1*x) / w2\n",
    "    y = (-weights[0] - weights[1] * x) / weights[2]\n",
    "    \n",
    "    ax.plot(x, y.flatten())\n",
    "    \n",
    "    # 设置图表中文标题和标签\n",
    "    plt.rcParams['font.sans-serif'] = ['SimHei']\n",
    "    plt.rcParams['axes.unicode_minus'] = False\n",
    "    plt.title('逻辑回归最佳拟合直线')\n",
    "    plt.xlabel('特征 X1')\n",
    "    plt.ylabel('特征 X2')\n",
    "    plt.legend()\n",
    "    plt.show()"
   ]
  },
  {
   "cell_type": "code",
   "execution_count": 43,
   "id": "bfda0724",
   "metadata": {},
   "outputs": [
    {
     "data": {
      "image/png": "[encoded data removed]",
      "text/plain": [
       "<Figure size 640x480 with 1 Axes>"
      ]
     },
     "metadata": {},
     "output_type": "display_data"
    }
   ],
   "source": [
    "# 运行并查看可视化结果\n",
    "dataArr, labelMat = loadDataSet()\n",
    "weights = gradAscent(dataArr, labelMat)\n",
    "plotBestFit(weights)"
   ]
  },
  {
   "cell_type": "markdown",
   "id": "4e6afeed",
   "metadata": {},
   "source": [
    "#### 实战马疝病数据预测"
   ]
  },
  {
   "cell_type": "code",
   "execution_count": 44,
   "id": "df001b5d",
   "metadata": {},
   "outputs": [],
   "source": [
    "# 定义改进的随机梯度上升算法\n",
    "def stocGradAscent1(dataMatrix, classLabels, numIter=150):\n",
    "    \"\"\"改进的随机梯度上升算法\"\"\"\n",
    "    dataMatrix = np.array(dataMatrix)\n",
    "    m, n = np.shape(dataMatrix)\n",
    "    weights = np.ones(n)\n",
    "    \n",
    "    for j in range(numIter):\n",
    "        dataIndex = list(range(m))\n",
    "        for i in range(m):\n",
    "            # 1. 动态学习率\n",
    "            alpha = 4 / (1.0 + j + i) + 0.0001\n",
    "            # 2. 随机选取样本\n",
    "            rand_idx_pos = int(np.random.uniform(0, len(dataIndex)))\n",
    "            rand_idx_val = dataIndex[rand_idx_pos]\n",
    "            \n",
    "            # 计算并更新\n",
    "            h = sigmoid(np.sum(dataMatrix[rand_idx_val] * weights))\n",
    "            error = classLabels[rand_idx_val] - h\n",
    "            weights = weights + alpha * error * dataMatrix[rand_idx_val]\n",
    "            \n",
    "            # 删除已用过的索引\n",
    "            del(dataIndex[rand_idx_pos])\n",
    "            \n",
    "    return weights"
   ]
  },
  {
   "cell_type": "code",
   "execution_count": 45,
   "id": "8e183b8c",
   "metadata": {},
   "outputs": [],
   "source": [
    "# 定义分类与测试函数\n",
    "def classifyVector(inX, weights):\n",
    "    \"\"\"根据权重对输入向量进行分类\"\"\"\n",
    "    prob = sigmoid(np.sum(inX * weights))\n",
    "    return 1.0 if prob > 0.5 else 0.0\n",
    "\n",
    "def colicTest():\n",
    "    \"\"\"单次训练和测试马疝病数据\"\"\"\n",
    "    trainingSet, trainingLabels = [], []\n",
    "    with open('horseColicTraining.txt') as frTrain:\n",
    "        for line in frTrain.readlines():\n",
    "            currLine = line.strip().split()\n",
    "            lineArr = [float(currLine[i]) for i in range(21)]\n",
    "            trainingSet.append(lineArr)\n",
    "            trainingLabels.append(float(currLine[21]))\n",
    "\n",
    "    # 训练模型，迭代1000次以获得更好的效果\n",
    "    trainWeights = stocGradAscent1(trainingSet, trainingLabels, 1000)\n",
    "    \n",
    "    errorCount = 0\n",
    "    numTestVec = 0\n",
    "    with open('horseColicTest.txt') as frTest:\n",
    "        for line in frTest.readlines():\n",
    "            numTestVec += 1\n",
    "            currLine = line.strip().split()\n",
    "            lineArr = [float(currLine[i]) for i in range(21)]\n",
    "            prediction = classifyVector(np.array(lineArr), trainWeights)\n",
    "            if int(prediction) != int(currLine[21]):\n",
    "                errorCount += 1\n",
    "                \n",
    "    errorRate = float(errorCount) / numTestVec\n",
    "    print(f\"本次测试的错误率是: {errorRate:.4f}\")\n",
    "    return errorRate\n",
    "\n",
    "def multiTest():\n",
    "    \"\"\"多次测试并计算平均错误率\"\"\"\n",
    "    numTests = 10\n",
    "    errorSum = 0.0\n",
    "    for k in range(numTests):\n",
    "        errorSum += colicTest()\n",
    "        \n",
    "    avgErrorRate = errorSum / float(numTests)\n",
    "    print(f\"\\n在 {numTests} 次迭代后, 平均错误率是: {avgErrorRate:.4f}\")"
   ]
  },
  {
   "cell_type": "code",
   "execution_count": 46,
   "id": "5d0ea2e7",
   "metadata": {},
   "outputs": [
    {
     "name": "stdout",
     "output_type": "stream",
     "text": [
      "本次测试的错误率是: 0.3134\n",
      "本次测试的错误率是: 0.2836\n",
      "本次测试的错误率是: 0.2836\n",
      "本次测试的错误率是: 0.4179\n",
      "本次测试的错误率是: 0.2836\n",
      "本次测试的错误率是: 0.6567\n",
      "本次测试的错误率是: 0.2687\n",
      "本次测试的错误率是: 0.3433\n",
      "本次测试的错误率是: 0.2687\n",
      "本次测试的错误率是: 0.2836\n",
      "\n",
      "在 10 次迭代后, 平均错误率是: 0.3403\n"
     ]
    }
   ],
   "source": [
    "# 运行最终预测实验\n",
    "multiTest()"
   ]
  }
 ],
 "metadata": {
  "kernelspec": {
   "display_name": "ML_Cqust",
   "language": "python",
   "name": "python3"
  },
  "language_info": {
   "codemirror_mode": {
    "name": "ipython",
    "version": 3
   },
   "file_extension": ".py",
   "mimetype": "text/x-python",
   "name": "python",
   "nbconvert_exporter": "python",
   "pygments_lexer": "ipython3",
   "version": "3.13.7"
  }
 },
 "nbformat": 4,
 "nbformat_minor": 5
}
