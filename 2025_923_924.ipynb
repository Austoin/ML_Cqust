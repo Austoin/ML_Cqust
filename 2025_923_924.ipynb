{
 "cells": [
  {
   "cell_type": "code",
   "execution_count": 19,
   "id": "81d7c141",
   "metadata": {},
   "outputs": [
    {
     "name": "stdout",
     "output_type": "stream",
     "text": [
      "     Country  average_social_support  average_log_gdp\n",
      "0    Albania                   0.710            9.497\n",
      "1  Argentina                   0.897            9.850\n",
      "2  Australia                   0.937           10.760\n",
      "3    Austria                   0.925           10.851\n",
      "4    Bahrain                   0.848           10.620\n"
     ]
    }
   ],
   "source": [
    "import pandas as pd \n",
    "\n",
    "#读取\n",
    "df = pd.read_csv('2025_923.csv')\n",
    "\n",
    "#查看前5行\n",
    "print(df.head())"
   ]
  },
  {
   "cell_type": "code",
   "execution_count": 20,
   "id": "da0ba370",
   "metadata": {},
   "outputs": [
    {
     "name": "stdout",
     "output_type": "stream",
     "text": [
      "Country                   0\n",
      "average_social_support    0\n",
      "average_log_gdp           0\n",
      "dtype: int64\n"
     ]
    }
   ],
   "source": [
    "print(df.isnull().sum()) #查看每一列缺失值数量"
   ]
  },
  {
   "cell_type": "code",
   "execution_count": 2,
   "id": "60e7b537",
   "metadata": {},
   "outputs": [],
   "source": [
    "# #填充缺失值\n",
    "# from sklearn.impute import SimpleImputer\n",
    "# #使用均值填充\n",
    "# imputer = SimpleImputer(strategy='mean') #可选：‘mean’，‘median’，‘most_frequent’\n",
    "# df_imputed = imputer.fit_transform(df) #填充缺失值"
   ]
  },
  {
   "cell_type": "markdown",
   "id": "dc4ccdfa",
   "metadata": {},
   "source": [
    "> 上述只针对数值插入，csv有字符串所以报错，下面选择数值列插入"
   ]
  },
  {
   "cell_type": "code",
   "execution_count": null,
   "id": "8269d39e",
   "metadata": {},
   "outputs": [],
   "source": [
    "from sklearn.impute import SimpleImputer\n",
    "import pandas as pd\n",
    "\n",
    "num = df.select_dtypes(include=['average_log_gdp']).columns  #选择数值列\n"
   ]
  }
 ],
 "metadata": {
  "kernelspec": {
   "display_name": "ML_Cqust_1",
   "language": "python",
   "name": "python3"
  },
  "language_info": {
   "codemirror_mode": {
    "name": "ipython",
    "version": 3
   },
   "file_extension": ".py",
   "mimetype": "text/x-python",
   "name": "python",
   "nbconvert_exporter": "python",
   "pygments_lexer": "ipython3",
   "version": "3.9.23"
  }
 },
 "nbformat": 4,
 "nbformat_minor": 5
}
