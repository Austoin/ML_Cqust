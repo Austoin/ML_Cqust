{
 "cells": [
  {
   "cell_type": "code",
   "execution_count": 73,
   "id": "5f7efadd",
   "metadata": {},
   "outputs": [
    {
     "name": "stdout",
     "output_type": "stream",
     "text": [
      "   total_bill   tip     sex smoker  day    time  size\n",
      "0       16.99  1.01  Female     No  Sun  Dinner     2\n",
      "1       10.34  1.66    Male     No  Sun  Dinner     3\n",
      "2       21.01  3.50    Male     No  Sun  Dinner     3\n",
      "3       23.68  3.31    Male     No  Sun  Dinner     2\n",
      "4       24.59  3.61  Female     No  Sun  Dinner     4\n"
     ]
    }
   ],
   "source": [
    "import seaborn as sns\n",
    "import numpy as np\n",
    "from sklearn.preprocessing import StandardScaler\n",
    "\n",
    "# 加载数据集\n",
    "data = sns.load_dataset('tips')\n",
    "\n",
    "# 显示数据集的前几行\n",
    "print(data.head())\n"
   ]
  },
  {
   "cell_type": "code",
   "execution_count": 76,
   "id": "2785626c",
   "metadata": {},
   "outputs": [
    {
     "name": "stdout",
     "output_type": "stream",
     "text": [
      "   total_bill   tip  sex  smoker day  time  size\n",
      "0       16.99  1.01    0       0   4     1     2\n",
      "1       10.34  1.66    1       0   4     1     3\n",
      "2       21.01  3.50    1       0   4     1     3\n",
      "3       23.68  3.31    1       0   4     1     2\n",
      "4       24.59  3.61    0       0   4     1     4\n"
     ]
    }
   ],
   "source": [
    "# 将'gender'列中的'Female'和'Male'转换为0和1\n",
    "data['sex'] = (data['sex'] == 'Male').astype(int)\n",
    "\n",
    "# 将'smoker'列中的'Yes'和'No'转换为0和1\n",
    "data['smoker'] = (data['smoker'] == 'Yes').astype(int)\n",
    "\n",
    "# 将'time'列中的'Dinner'和'Lunch'转换为0和1\n",
    "data['time'] = (data['time'] == 'Dinner').astype(int)\n",
    "\n",
    "# 将'day'列中的字符串表示的星期几转换为数字\n",
    "day_mapping = {'Thur': 1, 'Fri': 2, 'Sat': 3, 'Sun': 4}\n",
    "data['day'] = data['day'].map(day_mapping)\n",
    "\n",
    "# 显示数据集的前几行\n",
    "print(data.head())"
   ]
  },
  {
   "cell_type": "code",
   "execution_count": 77,
   "id": "fb5a562d",
   "metadata": {},
   "outputs": [
    {
     "name": "stdout",
     "output_type": "stream",
     "text": [
      "total_bill    0\n",
      "tip           0\n",
      "sex           0\n",
      "smoker        0\n",
      "day           0\n",
      "time          0\n",
      "size          0\n",
      "dtype: int64\n"
     ]
    }
   ],
   "source": [
    "# 检查缺失值\n",
    "print(data.isnull().sum())"
   ]
  },
  {
   "cell_type": "code",
   "execution_count": 78,
   "id": "503ba77c",
   "metadata": {},
   "outputs": [
    {
     "name": "stdout",
     "output_type": "stream",
     "text": [
      "   total_bill   tip  sex  smoker day  time  size\n",
      "0       16.99  1.01    0       0   4     1   2.0\n",
      "1       10.34  1.66    1       0   4     1   3.0\n",
      "2       21.01  3.50    1       0   4     1   3.0\n",
      "3       23.68  3.31    1       0   4     1   2.0\n",
      "4       24.59  3.61    0       0   4     1   4.0\n",
      "5         NaN  4.71    1       0   4     1   4.0\n",
      "6         NaN  2.00    1       0   4     1   2.0\n",
      "7         NaN  3.12    1       0   4     1   4.0\n",
      "8         NaN  1.96    1       0   4     1   2.0\n",
      "9         NaN  3.23    1       0   4     1   2.0\n"
     ]
    }
   ],
   "source": [
    "# 人为引入一些缺失值\n",
    "data.loc[5:10, 'total_bill'] = np.nan\n",
    "data.loc[15:20, 'size'] = np.nan\n",
    "# 显示数据集的前几行，观察缺失值情况\n",
    "print(data.head(10))"
   ]
  },
  {
   "cell_type": "code",
   "execution_count": 82,
   "id": "5216faf2",
   "metadata": {},
   "outputs": [
    {
     "name": "stdout",
     "output_type": "stream",
     "text": [
      "total_bill    6\n",
      "tip           0\n",
      "sex           0\n",
      "smoker        0\n",
      "day           0\n",
      "time          0\n",
      "size          6\n",
      "dtype: int64\n",
      "(244, 7)\n"
     ]
    }
   ],
   "source": [
    "# 检查缺失值\n",
    "print(data.isnull().sum())\n",
    "print(data.shape)"
   ]
  },
  {
   "cell_type": "code",
   "execution_count": 83,
   "id": "8341b9b1",
   "metadata": {},
   "outputs": [
    {
     "name": "stdout",
     "output_type": "stream",
     "text": [
      "    total_bill   tip  sex  smoker day  time  size\n",
      "0        16.99  1.01    0       0   4     1   2.0\n",
      "1        10.34  1.66    1       0   4     1   3.0\n",
      "2        21.01  3.50    1       0   4     1   3.0\n",
      "3        23.68  3.31    1       0   4     1   2.0\n",
      "4        24.59  3.61    0       0   4     1   4.0\n",
      "11       35.26  5.00    0       0   4     1   4.0\n",
      "12       15.42  1.57    1       0   4     1   2.0\n",
      "13       18.43  3.00    1       0   4     1   4.0\n",
      "14       14.83  3.02    0       0   4     1   2.0\n",
      "21       20.29  2.75    0       0   3     1   2.0\n",
      "(232, 7)\n"
     ]
    }
   ],
   "source": [
    "# 删除缺失值所在的行\n",
    "data_no_missing = data.dropna()\n",
    "\n",
    "# 显示处理后的数据集\n",
    "print(data_no_missing.head(10))\n",
    "print(data_no_missing.shape)"
   ]
  },
  {
   "cell_type": "code",
   "execution_count": 93,
   "id": "85f4d805",
   "metadata": {},
   "outputs": [
    {
     "name": "stdout",
     "output_type": "stream",
     "text": [
      "(232, 6)\n",
      "(232,)\n"
     ]
    }
   ],
   "source": [
    "# 在这个例子中，我们假设选择'total_bill'和'size'作为特征\n",
    "selected_features = ['total_bill', 'size','smoker','day','time','size']\n",
    "X = data_no_missing[selected_features]\n",
    "Y = data_no_missing['tip']\n",
    "print(X.shape)\n",
    "print(Y.shape)"
   ]
  },
  {
   "cell_type": "code",
   "execution_count": 94,
   "id": "cbc67eb5",
   "metadata": {},
   "outputs": [
    {
     "name": "stdout",
     "output_type": "stream",
     "text": [
      "[[-0.32626149 -0.5892597  -0.81796378  1.15699505  0.64392092 -0.5892597 ]\n",
      " [-1.06505711  0.45431473 -0.81796378  1.15699505  0.64392092  0.45431473]\n",
      " [ 0.12034879  0.45431473 -0.81796378  1.15699505  0.64392092  0.45431473]\n",
      " ...\n",
      " [ 0.30476995 -0.5892597   1.22254802  0.28831268  0.64392092 -0.5892597 ]\n",
      " [-0.23405091 -0.5892597  -0.81796378  0.28831268  0.64392092 -0.5892597 ]\n",
      " [-0.12739771 -0.5892597  -0.81796378 -1.44905205  0.64392092 -0.5892597 ]]\n",
      "(232, 6)\n"
     ]
    }
   ],
   "source": [
    "# 对特征进行缩放，以确保它们具有相似的尺度。\n",
    "scaler = StandardScaler()\n",
    "X_scaled = scaler.fit_transform(X)\n",
    "print(X_scaled)\n",
    "print(X_scaled.shape)"
   ]
  },
  {
   "cell_type": "code",
   "execution_count": 96,
   "id": "309a06df",
   "metadata": {},
   "outputs": [
    {
     "name": "stdout",
     "output_type": "stream",
     "text": [
      "(225, 6)\n",
      "(225,)\n"
     ]
    }
   ],
   "source": [
    "# 使用Z-score方法进行异常值检测和剔除\n",
    "z_scores = np.abs(stats.zscore(X_scaled))\n",
    "filtered_data = X_scaled[(z_scores < 3).all(axis=1)]\n",
    "\n",
    "# 获取剔除异常值后的索引\n",
    "filtered_indices = np.where((z_scores < 3).all(axis=1))[0]\n",
    "\n",
    "# 根据索引获取对应的目标值\n",
    "filtered_target = Y.iloc[filtered_indices]\n",
    "print(filtered_data.shape)\n",
    "print(filtered_target.shape)"
   ]
  },
  {
   "cell_type": "code",
   "execution_count": 128,
   "id": "ca54d4ec",
   "metadata": {},
   "outputs": [
    {
     "data": {
      "image/png": "[encoded data removed]",
      "text/plain": [
       "<Figure size 1000x600 with 1 Axes>"
      ]
     },
     "metadata": {},
     "output_type": "display_data"
    }
   ],
   "source": [
    "from sklearn.model_selection import train_test_split\n",
    "from sklearn.linear_model import LinearRegression\n",
    "import matplotlib.pyplot as plt\n",
    "\n",
    "# 划分数据集为训练集和测试集\n",
    "X_train, X_test, y_train, y_test = train_test_split(filtered_data, filtered_target, test_size=0.3, random_state=42)\n",
    "\n",
    "# 训练线性回归模型\n",
    "model = LinearRegression()\n",
    "model.fit(X_train, y_train)\n",
    "\n",
    "# 在测试集上进行预测\n",
    "y_pred = model.predict(X_test)\n",
    "\n",
    "# 可视化预测结果\n",
    "plt.figure(figsize=(10, 6))\n",
    "plt.scatter(y_test, y_pred)\n",
    "plt.plot([0, 10], [0, 10], linestyle='--', color='red')  # 对角线表示理想情况\n",
    "plt.title('Actual vs Predicted')\n",
    "plt.xlabel('Actual Tip')\n",
    "plt.ylabel('Predicted Tip')\n",
    "plt.grid(True)\n",
    "plt.show()"
   ]
  },
  {
   "cell_type": "code",
   "execution_count": 129,
   "id": "77c6f770",
   "metadata": {},
   "outputs": [],
   "source": [
    "import numpy as np\n",
    "\n",
    "class LinearRegression:\n",
    "    def __init__(self, learning_rate=0.01, iterations=10000):\n",
    "        self.learning_rate = learning_rate\n",
    "        self.iterations = iterations\n",
    "        self.weights = None\n",
    "        self.bias = None\n",
    "\n",
    "    def fit(self, X, y):\n",
    "        n_samples, n_features = X.shape\n",
    "        self.weights = np.zeros(n_features)\n",
    "        self.bias = 0\n",
    "\n",
    "        for _ in range(self.iterations):\n",
    "            # Predictions\n",
    "            y_predicted = np.dot(X, self.weights) + self.bias\n",
    "\n",
    "            # Error\n",
    "            error = y - y_predicted\n",
    "\n",
    "            # Update weights and bias\n",
    "            self.weights += self.learning_rate * (1 / n_samples) * np.dot(X.T, error)\n",
    "            self.bias += self.learning_rate * (1 / n_samples) * np.sum(error)\n",
    "\n",
    "    def predict(self, X):\n",
    "        return np.dot(X, self.weights) + self.bias\n",
    "\n",
    "    def mean_absolute_error(self, y_true, y_pred):\n",
    "        return np.mean(np.abs(y_true - y_pred))\n",
    "\n",
    "    def mean_squared_error(self, y_true, y_pred):\n",
    "        return np.mean((y_true - y_pred) ** 2)\n",
    "\n",
    "    def r_squared(self, y_true, y_pred):\n",
    "        mean_y = np.mean(y_true)\n",
    "        ss_total = np.sum((y_true - mean_y) ** 2)\n",
    "        ss_residual = np.sum((y_true - y_pred) ** 2)\n",
    "        return 1 - (ss_residual / ss_total)\n"
   ]
  },
  {
   "cell_type": "code",
   "execution_count": 130,
   "id": "356959de",
   "metadata": {},
   "outputs": [
    {
     "name": "stdout",
     "output_type": "stream",
     "text": [
      "平均绝对误差: 0.76\n",
      "均方误差: 1.15\n",
      "R平方: 0.38\n"
     ]
    },
    {
     "data": {
      "image/png": "[encoded data removed]",
      "text/plain": [
       "<Figure size 1000x600 with 1 Axes>"
      ]
     },
     "metadata": {},
     "output_type": "display_data"
    }
   ],
   "source": [
    "# Assuming X_train, y_train, X_test, y_test are available\n",
    "model = LinearRegression()\n",
    "model.fit(X_train, y_train)\n",
    "\n",
    "# Predictions\n",
    "y_pred = model.predict(X_test)\n",
    "\n",
    "# Calculate metrics\n",
    "mae = model.mean_absolute_error(y_test, y_pred)\n",
    "mse = model.mean_squared_error(y_test, y_pred)\n",
    "r2 = model.r_squared(y_test, y_pred)\n",
    "\n",
    "print(f\"平均绝对误差: {mae:.2f}\") #平均绝对误差是预测值与真实值之间绝对差值的平均值。\n",
    "print(f\"均方误差: {mse:.2f}\") # 均方误差是预测值与真实值之间差值的平方的平均值。\n",
    "print(f\"R平方: {r2:.2f}\") #实际值与预测值之间的方差占实际值方差的比例。R平方的取值范围在0到1之间，越接近1表示模型对数据的拟合程度越好。\n",
    "\n",
    "# 可视化预测结果\n",
    "plt.figure(figsize=(10, 6))\n",
    "plt.scatter(y_test, y_pred)\n",
    "plt.plot([0, 10], [0, 10], linestyle='--', color='red')  # 对角线表示理想情况\n",
    "plt.title('Actual vs Predicted')\n",
    "plt.xlabel('Actual Tip')\n",
    "plt.ylabel('Predicted Tip')\n",
    "plt.grid(True)\n",
    "plt.show()"
   ]
  }
 ],
 "metadata": {
  "kernelspec": {
   "display_name": "pytorch_gpu",
   "language": "python",
   "name": "pytorch_gpu"
  },
  "language_info": {
   "codemirror_mode": {
    "name": "ipython",
    "version": 3
   },
   "file_extension": ".py",
   "mimetype": "text/x-python",
   "name": "python",
   "nbconvert_exporter": "python",
   "pygments_lexer": "ipython3",
   "version": "3.10.8"
  }
 },
 "nbformat": 4,
 "nbformat_minor": 5
}
